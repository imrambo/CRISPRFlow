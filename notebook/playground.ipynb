{
 "cells": [
  {
   "cell_type": "code",
   "execution_count": 25,
   "metadata": {},
   "outputs": [],
   "source": [
    "import os\n",
    "import subprocess"
   ]
  },
  {
   "cell_type": "code",
   "execution_count": 26,
   "metadata": {},
   "outputs": [],
   "source": [
    "crispr_detect_opts = {'-f':'myfasta.fa',\n",
    "'-o':'/path/to/outdir', '-T':2, '-minimum_repeat_length':20,\n",
    "'-array_quality_score_cutoff':3, '-tmp_dir':'/tmp',\n",
    " '-logfile':'logfile'}"
   ]
  },
  {
   "cell_type": "code",
   "execution_count": 27,
   "metadata": {},
   "outputs": [],
   "source": [
    "def optstring_join(optdict):\n",
    "    \"\"\"\n",
    "    Join a dictionary of command line options into a single string.\n",
    "    \"\"\"\n",
    "    optstring = ' '.join([str(param) + ' ' + str(val) for param, val in optdict.items()])\n",
    "    return optstring"
   ]
  },
  {
   "cell_type": "code",
   "execution_count": 28,
   "metadata": {},
   "outputs": [],
   "source": [
    "optlist=[]\n",
    "for param, val in crispr_detect_opts.items():\n",
    "    optlist.append(str(param))\n",
    "    optlist.append(str(val))"
   ]
  },
  {
   "cell_type": "code",
   "execution_count": 29,
   "metadata": {},
   "outputs": [
    {
     "data": {
      "text/plain": [
       "['-f',\n",
       " 'myfasta.fa',\n",
       " '-o',\n",
       " '/path/to/outdir',\n",
       " '-T',\n",
       " '2',\n",
       " '-minimum_repeat_length',\n",
       " '20',\n",
       " '-array_quality_score_cutoff',\n",
       " '3',\n",
       " '-tmp_dir',\n",
       " '/tmp',\n",
       " '-logfile',\n",
       " 'logfile']"
      ]
     },
     "execution_count": 29,
     "metadata": {},
     "output_type": "execute_result"
    }
   ],
   "source": [
    "optlist"
   ]
  },
  {
   "cell_type": "code",
   "execution_count": 30,
   "metadata": {},
   "outputs": [],
   "source": [
    "optlist.insert(0, 'perl')"
   ]
  },
  {
   "cell_type": "code",
   "execution_count": 31,
   "metadata": {},
   "outputs": [
    {
     "data": {
      "text/plain": [
       "['perl',\n",
       " '-f',\n",
       " 'myfasta.fa',\n",
       " '-o',\n",
       " '/path/to/outdir',\n",
       " '-T',\n",
       " '2',\n",
       " '-minimum_repeat_length',\n",
       " '20',\n",
       " '-array_quality_score_cutoff',\n",
       " '3',\n",
       " '-tmp_dir',\n",
       " '/tmp',\n",
       " '-logfile',\n",
       " 'logfile']"
      ]
     },
     "execution_count": 31,
     "metadata": {},
     "output_type": "execute_result"
    }
   ],
   "source": [
    "optlist"
   ]
  },
  {
   "cell_type": "code",
   "execution_count": 7,
   "metadata": {},
   "outputs": [],
   "source": []
  },
  {
   "cell_type": "code",
   "execution_count": 8,
   "metadata": {},
   "outputs": [
    {
     "data": {
      "text/plain": [
       "['foo',\n",
       " '-f',\n",
       " 'myfasta.fa',\n",
       " '-o',\n",
       " '/path/to/outdir',\n",
       " '-T',\n",
       " '2',\n",
       " '-minimum_repeat_length',\n",
       " '20',\n",
       " '-array_quality_score_cutoff',\n",
       " '3',\n",
       " '-tmp_dir',\n",
       " '/tmp',\n",
       " '-logfile',\n",
       " 'logfile']"
      ]
     },
     "execution_count": 8,
     "metadata": {},
     "output_type": "execute_result"
    }
   ],
   "source": []
  },
  {
   "cell_type": "code",
   "execution_count": null,
   "metadata": {},
   "outputs": [],
   "source": []
  }
 ],
 "metadata": {
  "kernelspec": {
   "display_name": "Python 3",
   "language": "python",
   "name": "python3"
  },
  "language_info": {
   "codemirror_mode": {
    "name": "ipython",
    "version": 3
   },
   "file_extension": ".py",
   "mimetype": "text/x-python",
   "name": "python",
   "nbconvert_exporter": "python",
   "pygments_lexer": "ipython3",
   "version": "3.6.6"
  }
 },
 "nbformat": 4,
 "nbformat_minor": 2
}
