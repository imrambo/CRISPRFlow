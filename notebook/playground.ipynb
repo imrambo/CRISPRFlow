{
 "cells": [
  {
   "cell_type": "code",
   "execution_count": 1,
   "metadata": {},
   "outputs": [],
   "source": [
    "import os\n",
    "import subprocess"
   ]
  },
  {
   "cell_type": "code",
   "execution_count": 2,
   "metadata": {},
   "outputs": [],
   "source": [
    "crispr_detect_opts = {'-f':'myfasta.fa',\n",
    "'-o':'/path/to/outdir', '-T':2, '-minimum_repeat_length':20,\n",
    "'-array_quality_score_cutoff':3, '-tmp_dir':'/tmp',\n",
    " '-logfile':'logfile'}"
   ]
  },
  {
   "cell_type": "code",
   "execution_count": 31,
   "metadata": {},
   "outputs": [
    {
     "ename": "SyntaxError",
     "evalue": "non-default argument follows default argument (hmmbo.py, line 106)",
     "output_type": "error",
     "traceback": [
      "Traceback \u001b[0;36m(most recent call last)\u001b[0m:\n",
      "  File \u001b[1;32m\"/Users/ian/anaconda3/lib/python3.6/site-packages/IPython/core/interactiveshell.py\"\u001b[0m, line \u001b[1;32m2910\u001b[0m, in \u001b[1;35mrun_code\u001b[0m\n    exec(code_obj, self.user_global_ns, self.user_ns)\n",
      "\u001b[0;36m  File \u001b[0;32m\"<ipython-input-31-9b791bdceaa3>\"\u001b[0;36m, line \u001b[0;32m1\u001b[0;36m, in \u001b[0;35m<module>\u001b[0;36m\u001b[0m\n\u001b[0;31m    import hmmbo\u001b[0m\n",
      "\u001b[0;36m  File \u001b[0;32m\"/Users/ian/development/CRISPRFlow/bin/python/hmmbo.py\"\u001b[0;36m, line \u001b[0;32m106\u001b[0m\n\u001b[0;31m    def command_generator(seqdb, program='hmmsearch', profile, psuffix='.hmm', optdict=None, outdir='/tmp', prefix=None, parallel=False, jobs=1, joblog='joblog', progbar=False):\u001b[0m\n\u001b[0m                         ^\u001b[0m\n\u001b[0;31mSyntaxError\u001b[0m\u001b[0;31m:\u001b[0m non-default argument follows default argument\n"
     ]
    }
   ],
   "source": [
    "def optstring_join(optdict):\n",
    "    \"\"\"\n",
    "    Join a dictionary of command line options into a single string.\n",
    "    \"\"\"\n",
    "    optstring = ' '.join([str(param) + ' ' + str(val) for param, val in optdict.items()])\n",
    "    return optstring"
   ]
  },
  {
   "cell_type": "code",
   "execution_count": 3,
   "metadata": {},
   "outputs": [],
   "source": [
    "optlist=[]\n",
    "for param, val in crispr_detect_opts.items():\n",
    "    optlist.append(str(param))\n",
    "    optlist.append(str(val))"
   ]
  },
  {
   "cell_type": "code",
   "execution_count": 4,
   "metadata": {},
   "outputs": [
    {
     "data": {
      "text/plain": [
       "['-f',\n",
       " 'myfasta.fa',\n",
       " '-o',\n",
       " '/path/to/outdir',\n",
       " '-T',\n",
       " '2',\n",
       " '-minimum_repeat_length',\n",
       " '20',\n",
       " '-array_quality_score_cutoff',\n",
       " '3',\n",
       " '-tmp_dir',\n",
       " '/tmp',\n",
       " '-logfile',\n",
       " 'logfile']"
      ]
     },
     "execution_count": 4,
     "metadata": {},
     "output_type": "execute_result"
    }
   ],
   "source": [
    "optlist"
   ]
  },
  {
   "cell_type": "code",
   "execution_count": null,
   "metadata": {},
   "outputs": [],
   "source": []
  }
 ],
 "metadata": {
  "kernelspec": {
   "display_name": "Python 3",
   "language": "python",
   "name": "python3"
  },
  "language_info": {
   "codemirror_mode": {
    "name": "ipython",
    "version": 3
   },
   "file_extension": ".py",
   "mimetype": "text/x-python",
   "name": "python",
   "nbconvert_exporter": "python",
   "pygments_lexer": "ipython3",
   "version": "3.6.6"
  }
 },
 "nbformat": 4,
 "nbformat_minor": 2
}
